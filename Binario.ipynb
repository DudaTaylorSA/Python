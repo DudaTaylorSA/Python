{
  "nbformat": 4,
  "nbformat_minor": 0,
  "metadata": {
    "colab": {
      "provenance": [],
      "authorship_tag": "ABX9TyPqghSSr+SWNZV7MLaVqgwO",
      "include_colab_link": true
    },
    "kernelspec": {
      "name": "python3",
      "display_name": "Python 3"
    },
    "language_info": {
      "name": "python"
    }
  },
  "cells": [
    {
      "cell_type": "markdown",
      "metadata": {
        "id": "view-in-github",
        "colab_type": "text"
      },
      "source": [
        "<a href=\"https://colab.research.google.com/github/DudaTaylorSA/Python/blob/main/Binario.ipynb\" target=\"_parent\"><img src=\"https://colab.research.google.com/assets/colab-badge.svg\" alt=\"Open In Colab\"/></a>"
      ]
    },
    {
      "cell_type": "code",
      "execution_count": null,
      "metadata": {
        "colab": {
          "base_uri": "https://localhost:8080/"
        },
        "id": "7zhBn6-j55gn",
        "outputId": "843e8fed-d339-4bbe-e9f7-ff156e3a55f9"
      },
      "outputs": [
        {
          "output_type": "stream",
          "name": "stdout",
          "text": [
            " O binário '10110'em decimal é 22\n"
          ]
        }
      ],
      "source": [
        "# O binário é minha variável e só pode ser trabalhada numeros que usam digitos 0 e 1\n",
        "binario = \"10110\"\n",
        "decimal = int(binario, 2)\n",
        "print(f\" O binário '{binario}'em decimal é {decimal}\")"
      ]
    },
    {
      "cell_type": "code",
      "source": [
        "#Eu tenho três variáveis nesse trecho de código: decimal, binario_completo e binario_sem_prefixo. Cada uma delas armazena um valor diferente em algum momento da execução do código.\n",
        "decimal = 22\n",
        "binario_completo = bin(decimal)\n",
        "binario_sem_prefixo = bin(decimal)[2:]\n",
        "print(f\"O decimal {decimal} em binário (com prefixo): {binario_completo}\")\n",
        "print(f\"O decimal {decimal} em binário (sem prefixo): {binario_sem_prefixo}\")"
      ],
      "metadata": {
        "colab": {
          "base_uri": "https://localhost:8080/"
        },
        "id": "SrRkBi3g8s-5",
        "outputId": "be595a1a-0a2a-4500-b187-e1f7d1cf6b78"
      },
      "execution_count": null,
      "outputs": [
        {
          "output_type": "stream",
          "name": "stdout",
          "text": [
            "O decimal 22 em binário (com prefixo): 0b10110\n",
            "O decimal 22 em binário (sem prefixo): 10110\n"
          ]
        }
      ]
    },
    {
      "cell_type": "code",
      "source": [
        "octal = \"37\"\n",
        "decimal = int(octal, 8)\n",
        "print(f\"O octal '{octal}' em decimal é: {decimal}\")"
      ],
      "metadata": {
        "id": "VcUG-m9d_IqA"
      },
      "execution_count": null,
      "outputs": []
    },
    {
      "cell_type": "code",
      "source": [
        "decimal = 31\n",
        "octal_completo = oct(decimal)\n",
        "octal_sem_prefixo = oct(decimal)[2:]\n",
        "print(f\"O decimal {decimal} em octal (com prefixo): {octal_completo}\")\n",
        "print(f\"O decimal {decimal} em octal (sem prefixo): {octal_sem_prefixo}\")"
      ],
      "metadata": {
        "id": "LoQzv5lF_Jqw"
      },
      "execution_count": null,
      "outputs": []
    },
    {
      "cell_type": "code",
      "source": [
        "hexadecimal = \"1A\"\n",
        "decimal = int(hexadecimal, 16)\n",
        "print(f\"O hexadecimal '{hexadecimal}' em decimal é: {decimal}\")"
      ],
      "metadata": {
        "id": "ZshPqMdh_ORS"
      },
      "execution_count": null,
      "outputs": []
    },
    {
      "cell_type": "code",
      "source": [
        "decimal = 26\n",
        "hexadecimal_completo = hex(decimal)\n",
        "hexadecimal_sem_prefixo = hex(decimal)[2:]\n",
        "print(f\"O decimal {decimal} em hexadecimal (com prefixo): {hexadecimal_completo}\")\n",
        "print(f\"O decimal {decimal} em hexadecimal (sem prefixo): {hexadecimal_sem_prefixo}\")"
      ],
      "metadata": {
        "id": "i8OZPMpu_QpE"
      },
      "execution_count": null,
      "outputs": []
    },
    {
      "cell_type": "code",
      "source": [
        "binario = \"101110\"\n",
        "decimal = int(binario, 2)\n",
        "octal = oct(decimal)[2:]\n",
        "print(f\"O binário '{binario}' em octal é: {octal}\")"
      ],
      "metadata": {
        "id": "Ox5LH7Dc_Riv"
      },
      "execution_count": null,
      "outputs": []
    },
    {
      "cell_type": "code",
      "source": [
        "octal = \"56\"\n",
        "decimal = int(octal, 8)\n",
        "binario = bin(decimal)[2:]\n",
        "print(f\"O octal '{octal}' em binário é: {binario}\")"
      ],
      "metadata": {
        "id": "itvcdLiy_qVp"
      },
      "execution_count": null,
      "outputs": []
    }
  ]
}