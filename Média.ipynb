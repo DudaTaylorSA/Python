{
  "nbformat": 4,
  "nbformat_minor": 0,
  "metadata": {
    "colab": {
      "provenance": [],
      "authorship_tag": "ABX9TyOK+vvYRnROdxM3w97s/V6A",
      "include_colab_link": true
    },
    "kernelspec": {
      "name": "python3",
      "display_name": "Python 3"
    },
    "language_info": {
      "name": "python"
    }
  },
  "cells": [
    {
      "cell_type": "markdown",
      "metadata": {
        "id": "view-in-github",
        "colab_type": "text"
      },
      "source": [
        "<a href=\"https://colab.research.google.com/github/DudaTaylorSA/Python/blob/main/M%C3%A9dia.ipynb\" target=\"_parent\"><img src=\"https://colab.research.google.com/assets/colab-badge.svg\" alt=\"Open In Colab\"/></a>"
      ]
    },
    {
      "cell_type": "code",
      "source": [
        "import numpy as np"
      ],
      "metadata": {
        "id": "48OIfVhSNtft"
      },
      "execution_count": 7,
      "outputs": []
    },
    {
      "cell_type": "code",
      "source": [
        "x=[20,20,20,20,40]\n",
        "# np.mean(x) # Removed numpy mean calculation\n",
        "media=sum(x)/len(x)\n",
        "print(media)"
      ],
      "metadata": {
        "colab": {
          "base_uri": "https://localhost:8080/"
        },
        "id": "qMPi_iQBpCZq",
        "outputId": "4d743bbf-2ffb-47fc-8aff-99f161c3824e"
      },
      "execution_count": 8,
      "outputs": [
        {
          "output_type": "stream",
          "name": "stdout",
          "text": [
            "24.0\n"
          ]
        }
      ]
    },
    {
      "cell_type": "code",
      "execution_count": 9,
      "metadata": {
        "colab": {
          "base_uri": "https://localhost:8080/"
        },
        "id": "HzyXiseknLMt",
        "outputId": "6e54f7bd-df71-4b28-db3d-64df1e08ccde"
      },
      "outputs": [
        {
          "output_type": "stream",
          "name": "stdout",
          "text": [
            "[14, 14, 14, 14]\n"
          ]
        },
        {
          "output_type": "execute_result",
          "data": {
            "text/plain": [
              "24.0"
            ]
          },
          "metadata": {},
          "execution_count": 9
        }
      ],
      "source": [
        "\"\"\"\n",
        "Média aritmética ponderada\n",
        "soma(dados * pesos) soma(pesos)\n",
        "\"\"\"\n",
        "pesos=(1,2,3,4)\n",
        "notas=(8,7,9,9)\n",
        "\n",
        "notasXpesos=[notas[1] * pesos[1] for i in range(0,len(notas))]\n",
        "print(notasXpesos)\n",
        "\n",
        "somaNotasXpesos=sum(notasXpesos)\n",
        "media"
      ]
    }
  ]
}