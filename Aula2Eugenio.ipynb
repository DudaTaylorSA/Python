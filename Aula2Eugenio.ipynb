{
  "nbformat": 4,
  "nbformat_minor": 0,
  "metadata": {
    "colab": {
      "provenance": [],
      "authorship_tag": "ABX9TyMMljH0IVKgu91C79SyPbRZ",
      "include_colab_link": true
    },
    "kernelspec": {
      "name": "python3",
      "display_name": "Python 3"
    },
    "language_info": {
      "name": "python"
    }
  },
  "cells": [
    {
      "cell_type": "markdown",
      "metadata": {
        "id": "view-in-github",
        "colab_type": "text"
      },
      "source": [
        "<a href=\"https://colab.research.google.com/github/DudaTaylorSA/Python/blob/main/Aula2Eugenio.ipynb\" target=\"_parent\"><img src=\"https://colab.research.google.com/assets/colab-badge.svg\" alt=\"Open In Colab\"/></a>"
      ]
    },
    {
      "cell_type": "code",
      "execution_count": null,
      "metadata": {
        "id": "0oHqBBSVa3me"
      },
      "outputs": [],
      "source": [
        "import matplotlib.pyplot as plt    # Gráficos e visualização de dados\n",
        "import numpy as np          # Manipulação de arrays e matrizes\n",
        "import pandas as pd         # Manipulação e análise de dados em tabelas (DataFrames)\n",
        "import seaborn as sns       # Visualização estatística com gráficos mais bonitos e fáceis\n",
        "import scipy                # Funções científicas avançadas (ex: integração, otimização)\n",
        "import sklearn              # Aprendizado de máquina (scikit-learn)\n",
        "import tensorflow as tf     # Framework para deep learning\n",
        "import torch                # PyTorch, outra biblioteca para deep learning\n",
        "import requests             # Requisições HTTP para APIs e web scraping\n",
        "import flask                # Framework web leve para desenvolvimento de APIs e aplicações web\n",
        "import tkinter as tk        # Biblioteca padrão do Python para criar interfaces gráficas desktop de forma simples e multiplataforma"
      ]
    },
    {
      "cell_type": "code",
      "source": [
        "peso = float(input(\"Digite seu peso: \"))\n",
        "altura = float(input(\"Digite sua altura: \"))\n",
        "imc = peso / (altura ** 2)\n",
        "print(imc)"
      ],
      "metadata": {
        "id": "fypesmK3eqaO",
        "colab": {
          "base_uri": "https://localhost:8080/",
          "height": 353
        },
        "outputId": "1a57b904-c937-4769-937e-2840acd9dd65"
      },
      "execution_count": null,
      "outputs": [
        {
          "output_type": "error",
          "ename": "KeyboardInterrupt",
          "evalue": "Interrupted by user",
          "traceback": [
            "\u001b[0;31m---------------------------------------------------------------------------\u001b[0m",
            "\u001b[0;31mKeyboardInterrupt\u001b[0m                         Traceback (most recent call last)",
            "\u001b[0;32m<ipython-input-2-e941fbe1b095>\u001b[0m in \u001b[0;36m<cell line: 0>\u001b[0;34m()\u001b[0m\n\u001b[0;32m----> 1\u001b[0;31m \u001b[0mpeso\u001b[0m \u001b[0;34m=\u001b[0m \u001b[0mfloat\u001b[0m\u001b[0;34m(\u001b[0m\u001b[0minput\u001b[0m\u001b[0;34m(\u001b[0m\u001b[0;34m\"Digite seu peso: \"\u001b[0m\u001b[0;34m)\u001b[0m\u001b[0;34m)\u001b[0m\u001b[0;34m\u001b[0m\u001b[0;34m\u001b[0m\u001b[0m\n\u001b[0m\u001b[1;32m      2\u001b[0m \u001b[0maltura\u001b[0m \u001b[0;34m=\u001b[0m \u001b[0mfloat\u001b[0m\u001b[0;34m(\u001b[0m\u001b[0minput\u001b[0m\u001b[0;34m(\u001b[0m\u001b[0;34m\"Digite sua altura: \"\u001b[0m\u001b[0;34m)\u001b[0m\u001b[0;34m)\u001b[0m\u001b[0;34m\u001b[0m\u001b[0;34m\u001b[0m\u001b[0m\n\u001b[1;32m      3\u001b[0m \u001b[0mimc\u001b[0m \u001b[0;34m=\u001b[0m \u001b[0mpeso\u001b[0m \u001b[0;34m/\u001b[0m \u001b[0;34m(\u001b[0m\u001b[0maltura\u001b[0m \u001b[0;34m**\u001b[0m \u001b[0;36m2\u001b[0m\u001b[0;34m)\u001b[0m\u001b[0;34m\u001b[0m\u001b[0;34m\u001b[0m\u001b[0m\n\u001b[1;32m      4\u001b[0m \u001b[0mprint\u001b[0m\u001b[0;34m(\u001b[0m\u001b[0mimc\u001b[0m\u001b[0;34m)\u001b[0m\u001b[0;34m\u001b[0m\u001b[0;34m\u001b[0m\u001b[0m\n",
            "\u001b[0;32m/usr/local/lib/python3.11/dist-packages/ipykernel/kernelbase.py\u001b[0m in \u001b[0;36mraw_input\u001b[0;34m(self, prompt)\u001b[0m\n\u001b[1;32m   1175\u001b[0m                 \u001b[0;34m\"raw_input was called, but this frontend does not support input requests.\"\u001b[0m\u001b[0;34m\u001b[0m\u001b[0;34m\u001b[0m\u001b[0m\n\u001b[1;32m   1176\u001b[0m             )\n\u001b[0;32m-> 1177\u001b[0;31m         return self._input_request(\n\u001b[0m\u001b[1;32m   1178\u001b[0m             \u001b[0mstr\u001b[0m\u001b[0;34m(\u001b[0m\u001b[0mprompt\u001b[0m\u001b[0;34m)\u001b[0m\u001b[0;34m,\u001b[0m\u001b[0;34m\u001b[0m\u001b[0;34m\u001b[0m\u001b[0m\n\u001b[1;32m   1179\u001b[0m             \u001b[0mself\u001b[0m\u001b[0;34m.\u001b[0m\u001b[0m_parent_ident\u001b[0m\u001b[0;34m[\u001b[0m\u001b[0;34m\"shell\"\u001b[0m\u001b[0;34m]\u001b[0m\u001b[0;34m,\u001b[0m\u001b[0;34m\u001b[0m\u001b[0;34m\u001b[0m\u001b[0m\n",
            "\u001b[0;32m/usr/local/lib/python3.11/dist-packages/ipykernel/kernelbase.py\u001b[0m in \u001b[0;36m_input_request\u001b[0;34m(self, prompt, ident, parent, password)\u001b[0m\n\u001b[1;32m   1217\u001b[0m             \u001b[0;32mexcept\u001b[0m \u001b[0mKeyboardInterrupt\u001b[0m\u001b[0;34m:\u001b[0m\u001b[0;34m\u001b[0m\u001b[0;34m\u001b[0m\u001b[0m\n\u001b[1;32m   1218\u001b[0m                 \u001b[0;31m# re-raise KeyboardInterrupt, to truncate traceback\u001b[0m\u001b[0;34m\u001b[0m\u001b[0;34m\u001b[0m\u001b[0m\n\u001b[0;32m-> 1219\u001b[0;31m                 \u001b[0;32mraise\u001b[0m \u001b[0mKeyboardInterrupt\u001b[0m\u001b[0;34m(\u001b[0m\u001b[0;34m\"Interrupted by user\"\u001b[0m\u001b[0;34m)\u001b[0m \u001b[0;32mfrom\u001b[0m \u001b[0;32mNone\u001b[0m\u001b[0;34m\u001b[0m\u001b[0;34m\u001b[0m\u001b[0m\n\u001b[0m\u001b[1;32m   1220\u001b[0m             \u001b[0;32mexcept\u001b[0m \u001b[0mException\u001b[0m\u001b[0;34m:\u001b[0m\u001b[0;34m\u001b[0m\u001b[0;34m\u001b[0m\u001b[0m\n\u001b[1;32m   1221\u001b[0m                 \u001b[0mself\u001b[0m\u001b[0;34m.\u001b[0m\u001b[0mlog\u001b[0m\u001b[0;34m.\u001b[0m\u001b[0mwarning\u001b[0m\u001b[0;34m(\u001b[0m\u001b[0;34m\"Invalid Message:\"\u001b[0m\u001b[0;34m,\u001b[0m \u001b[0mexc_info\u001b[0m\u001b[0;34m=\u001b[0m\u001b[0;32mTrue\u001b[0m\u001b[0;34m)\u001b[0m\u001b[0;34m\u001b[0m\u001b[0;34m\u001b[0m\u001b[0m\n",
            "\u001b[0;31mKeyboardInterrupt\u001b[0m: Interrupted by user"
          ]
        }
      ]
    },
    {
      "cell_type": "markdown",
      "source": [
        "**operadores aritméticos e de comparação** (não são lógicos booleanos). Principais tipos:\n",
        "\n",
        "---\n",
        "\n",
        "## ✅ **1. Operadores Aritméticos**\n",
        "\n",
        "| Operador | Significado           | Exemplo (`a = 10`, `b = 3`) | Resultado |\n",
        "|----------|-----------------------|-----------------------------|-----------|\n",
        "| `+`      | Adição                | `a + b`                     | `13`      |\n",
        "| `-`      | Subtração             | `a - b`                     | `7`       |\n",
        "| `*`      | Multiplicação         | `a * b`                     | `30`      |\n",
        "| `/`      | Divisão (float)       | `a / b`                     | `3.333...`|\n",
        "| `//`     | Divisão inteira       | `a // b`                    | `3`       |\n",
        "| `%`      | Módulo (resto)        | `a % b`                     | `1`       |\n",
        "| `**`     | Exponenciação         | `a ** b`                    | `1000`    |\n",
        "\n",
        "---\n",
        "\n",
        "## ✅ **2. Operadores de Atribuição**\n",
        "\n",
        "| Operador | Exemplo     | Equivalente a... |\n",
        "|----------|-------------|------------------|\n",
        "| `=`      | `a = 5`     | Atribuição direta|\n",
        "| `+=`     | `a += 3`    | `a = a + 3`      |\n",
        "| `-=`     | `a -= 2`    | `a = a - 2`      |\n",
        "| `*=`     | `a *= 4`    | `a = a * 4`      |\n",
        "| `/=`     | `a /= 2`    | `a = a / 2`      |\n",
        "| `//=`    | `a //= 2`   | `a = a // 2`     |\n",
        "| `%=`     | `a %= 3`    | `a = a % 3`      |\n",
        "| `**=`    | `a **= 2`   | `a = a ** 2`     |\n",
        "\n",
        "---\n",
        "\n",
        "## ✅ **3. Operadores de Comparação**\n",
        "\n",
        "| Operador | Significado                | Exemplo (`a = 10`, `b = 5`) | Resultado |\n",
        "|----------|----------------------------|-----------------------------|-----------|\n",
        "| `==`     | Igual a                    | `a == b`                    | `False`   |\n",
        "| `!=`     | Diferente de               | `a != b`                    | `True`    |\n",
        "| `>`      | Maior que                  | `a > b`                     | `True`    |\n",
        "| `<`      | Menor que                  | `a < b`                     | `False`   |\n",
        "| `>=`     | Maior ou igual a           | `a >= b`                    | `True`    |\n",
        "| `<=`     | Menor ou igual a           | `a <= b`                    | `False`   |\n",
        "\n",
        "---\n",
        "\n",
        "Se quiser, posso te dar uma tabelinha com **todos juntos em PDF** ou exercícios práticos para fixar. Quer alguma dessas opções?"
      ],
      "metadata": {
        "id": "1XDF8WErtL49"
      }
    },
    {
      "cell_type": "code",
      "source": [
        "idade = int(input(\"Digite sua idade \"))\n",
        "if idade >= 18:\n",
        "  print (\"É maior de idade e pode dirigir\")\n",
        "else:\n",
        "  print (\"É menor de idade e não pode dirigir\")"
      ],
      "metadata": {
        "colab": {
          "base_uri": "https://localhost:8080/"
        },
        "id": "n7Wzs_NTjNOG",
        "outputId": "d9d956b4-5f93-4cfa-f0ed-88b2c9dbb0e9"
      },
      "execution_count": null,
      "outputs": [
        {
          "output_type": "stream",
          "name": "stdout",
          "text": [
            "Digite sua idade 29\n",
            "É maior de idade e pode dirigir\n"
          ]
        }
      ]
    },
    {
      "cell_type": "code",
      "source": [
        "idade = int(input(\"Digite sua idade \"))\n",
        "if idade >= 18:\n",
        "  print (\"É maior de idade e pode dirigir\")\n",
        "else:\n",
        "  print (\"É menor de idade e NÃO pode dirigir\")\n",
        "print (\"FIM\")"
      ],
      "metadata": {
        "colab": {
          "base_uri": "https://localhost:8080/"
        },
        "id": "Nbr-726-kuSc",
        "outputId": "9e5d7be3-d2d3-43eb-f7c3-dd4ea2e446d9"
      },
      "execution_count": null,
      "outputs": [
        {
          "output_type": "stream",
          "name": "stdout",
          "text": [
            "Digite sua idade 18\n",
            "É maior de idade e pode dirigir\n",
            "FIM\n"
          ]
        }
      ]
    },
    {
      "cell_type": "code",
      "source": [
        "# Duas Possibilidades de número maior ou menor\n",
        "a = int(input(\"Digite o 1º número \"))\n",
        "b = int(input(\"Digite o 2º número \"))\n",
        "if a < b:\n",
        "  print (\"a,b\")\n",
        "else:\n",
        "  print (\"b,a\")"
      ],
      "metadata": {
        "colab": {
          "base_uri": "https://localhost:8080/"
        },
        "id": "Fg05DJQZob_-",
        "outputId": "bab96c56-1a83-4242-ae74-3eb0718ddf4a"
      },
      "execution_count": null,
      "outputs": [
        {
          "output_type": "stream",
          "name": "stdout",
          "text": [
            "Digite o 1º número 5\n",
            "Digite o 2º número 6\n",
            "a,b\n"
          ]
        }
      ]
    },
    {
      "cell_type": "code",
      "source": [
        "#Possibilidade de número maior, menor ou igual\n",
        "a = int(input(\"Digite o 1º número \"))\n",
        "b = int(input(\"Digite o 2º número \"))\n",
        "if a > b:\n",
        "  print (\"a,b\")\n",
        "elif a < b:\n",
        "  print (\"b,a\")\n",
        "else:\n",
        "  print (\"empate\")"
      ],
      "metadata": {
        "id": "MGOHwVuxfYf5"
      },
      "execution_count": null,
      "outputs": []
    },
    {
      "cell_type": "code",
      "source": [
        "cor_copo = input(\"Diga a cor do copo\\n\")\n",
        "\n",
        "if cor_copo == \"amarelo\":\n",
        "  print(f\"O copo é amarelo\")\n",
        "elif cor_copo == \"verde\":\n",
        "  print(f\"O copo é verde\")\n",
        "elif cor_copo == \"azul\":\n",
        "  print(f\"O copo é azul\")\n",
        "elif cor_copo == \"vermelho\":\n",
        "  print(\"O copo é vermelho\")\n",
        "elif cor_copo == \"rosa\":\n",
        "  print(f\"O copo é rosa\")\n",
        "else:\n",
        "  print(f\"Não existe copo ou ele não é dessas cores\")"
      ],
      "metadata": {
        "id": "qDZ2e-646WWV",
        "colab": {
          "base_uri": "https://localhost:8080/"
        },
        "outputId": "1c7087a1-cbf6-4cfc-ba1f-ba8a30d2e826"
      },
      "execution_count": null,
      "outputs": [
        {
          "output_type": "stream",
          "name": "stdout",
          "text": [
            "Diga a cor do copo\n",
            "verde\n",
            "O copo é verde\n"
          ]
        }
      ]
    },
    {
      "cell_type": "code",
      "source": [
        "cores_prato = [\"roxo\", \"cinza\", \"preto\", \"rosa\"]\n",
        "escolha_cor = input(\"Escolha uma cor:\\n\").lower()\n",
        "if escolha_cor in cores_prato:\n",
        "  print(f\"o prato da cor {escolha_cor} existe\")\n",
        "else:\n",
        "  print(f\"o prato da cor {escolha_cor} não existe ou foi digitado incorretamente\")"
      ],
      "metadata": {
        "colab": {
          "base_uri": "https://localhost:8080/"
        },
        "id": "kBJZKgKn6vG1",
        "outputId": "13946a77-c3b3-4a16-c5fa-650c6f261406"
      },
      "execution_count": null,
      "outputs": [
        {
          "output_type": "stream",
          "name": "stdout",
          "text": [
            "Escolha uma cor:\n",
            "roxo\n",
            "o prato da cor roxo existe\n"
          ]
        }
      ]
    },
    {
      "cell_type": "code",
      "source": [
        "orisex = [\"homossexual\", \"hetero\", \"lesbica\", \"bissexual\", \"pansexual\"]\n",
        "genero = [\"homem\", \"mulher\", \"não binário\"]\n",
        "\n",
        "atalhos_orisex = {\n",
        "    \"gay\": \"homossexual\",\n",
        "    \"pan\": \"pansexual\",\n",
        "    \"bi\": \"bissexual\"\n",
        "}\n",
        "\n",
        "atalhos_genero = {\n",
        "    \"nb\": \"não binário\",\n",
        "    \"m\": \"mulher\",\n",
        "    \"h\": \"homem\"\n",
        "}\n",
        "\n",
        "diga_orisex = (input(\"Qual é a sua orientação sexual? \")).lower().strip()\n",
        "diga_genero = (input(\"Qual é o seu gênero? \")).lower().strip()\n",
        "\n",
        "if diga_orisex in atalhos_orisex:\n",
        "  diga_orisex = atalhos_orisex[diga_orisex]\n",
        "\n",
        "if diga_genero in atalhos_genero:\n",
        "  diga_genero = atalhos_genero[diga_genero]\n",
        "\n",
        "if diga_orisex in orisex and diga_genero in genero:\n",
        "  print(f\"Você é {diga_orisex} e {diga_genero}\")\n",
        "\n",
        "elif diga_orisex in orisex and diga_genero not in genero:\n",
        "  print(f\"Você é {diga_orisex} mas não existe gênero {diga_genero}\")\n",
        "\n",
        "elif diga_orisex not in orisex and diga_genero in genero:\n",
        "  print(f\"Não existe {diga_orisex} mas você é {diga_genero}\")\n",
        "\n",
        "elif diga_orisex not in orisex and diga_genero not in genero:\n",
        "  print(f\"Não existe orientação sexual {diga_genero} nem gênero {diga_orisex} TENTE NOVAMENTE\")"
      ],
      "metadata": {
        "colab": {
          "base_uri": "https://localhost:8080/"
        },
        "id": "qcHPy7gMR0tW",
        "outputId": "8d1d0c10-77cb-4aac-eeca-8bb70a36c841"
      },
      "execution_count": null,
      "outputs": [
        {
          "output_type": "stream",
          "name": "stdout",
          "text": [
            "Qual é a sua orientação sexual? pan\n",
            "Qual é o seu gênero? nb\n",
            "Você é pansexual e não binário\n"
          ]
        }
      ]
    },
    {
      "cell_type": "code",
      "source": [
        "Nome = [\"Duda\", \"Kristen\"]\n",
        "\n",
        "while True:\n",
        "    nome_digitado = input(\"Qual é o seu nome? \").strip()\n",
        "\n",
        "    if nome_digitado in Nome:\n",
        "        print(f\"Olá {nome_digitado}, Seja bem-vindo(a) à nossa empresa!\")\n",
        "        break\n",
        "    else:\n",
        "        print(\"Nome não reconhecido, tente de novo.\")"
      ],
      "metadata": {
        "colab": {
          "base_uri": "https://localhost:8080/"
        },
        "id": "u12A1uHTSCEH",
        "outputId": "af949a67-479c-4796-8a66-edc7e4008b86"
      },
      "execution_count": null,
      "outputs": [
        {
          "output_type": "stream",
          "name": "stdout",
          "text": [
            "Qual é o seu nome? Kristen\n",
            "Olá Kristen, Seja bem-vindo(a) à nossa empresa!\n"
          ]
        }
      ]
    },
    {
      "cell_type": "code",
      "source": [
        "nome = [\"Ana\", \"Maria\", \"Pedro\", \"João\", \"Duda\", \"Kristen\"]\n",
        "empresa = [\"McDonalds\", \"Outback\", \"TOTVS\", \"FMU\"]\n",
        "\n",
        "while True:\n",
        "  diga_nome = input(\"Fala seu nome: \").strip()\n",
        "  diga_empresa = input(\"Digite o nome da empresa\")\n",
        "\n",
        "  if diga_nome in nome and diga_empresa in empresa:\n",
        "    print(f\"oi {diga_nome}. Seja bem vindo(a) a {diga_empresa} \\n\")\n",
        "    break\n",
        "  else:\n",
        "    print(\"Nome ou empresa não reconhecido, tente novamente\")"
      ],
      "metadata": {
        "id": "tLyYb4A_cnET"
      },
      "execution_count": null,
      "outputs": []
    },
    {
      "cell_type": "code",
      "source": [
        "a = float(input (\"Digite o primeiro número \"))\n",
        "b = float(input (\"Digite o segundo número \" ))\n",
        "c = float(input (\"Digite o terceiro número \" ))\n",
        "\n",
        "if a*a + b*b == c*c or a*a + c*c == b*b or b*b + c*c == a*a:\n",
        "  print(\"Triangulo retângulo POSITIVO\")\n",
        "else:\n",
        "  print(\"Triangulo Retângulo NEGATIVO\")"
      ],
      "metadata": {
        "id": "94EflirI1odg",
        "colab": {
          "base_uri": "https://localhost:8080/"
        },
        "outputId": "4e0d780f-567c-4fac-d58a-fbd252cb2104"
      },
      "execution_count": null,
      "outputs": [
        {
          "output_type": "stream",
          "name": "stdout",
          "text": [
            "Digite o primeiro número 5\n",
            "Digite o segundo número 12\n",
            "Digite o terceiro número 13\n",
            "Triangulo retângulo POSITIVO\n"
          ]
        }
      ]
    },
    {
      "cell_type": "code",
      "source": [
        "n = int( input (\"Digite o primeiro número\"))\n",
        "while n != 0:\n",
        "  print(n*n)\n",
        "  try:\n",
        "    n = int( input (\"Digite o primeiro número\"))\n",
        "  except ValueError:\n",
        "    print(\"Entrada inválida. Por favor, digite um número inteiro.\")"
      ],
      "metadata": {
        "colab": {
          "base_uri": "https://localhost:8080/",
          "height": 371
        },
        "id": "H5ZYrpgPu_Z5",
        "outputId": "a3b5186f-c0a7-4f98-ea1d-16446ee029c6"
      },
      "execution_count": null,
      "outputs": [
        {
          "output_type": "error",
          "ename": "KeyboardInterrupt",
          "evalue": "Interrupted by user",
          "traceback": [
            "\u001b[0;31m---------------------------------------------------------------------------\u001b[0m",
            "\u001b[0;31mKeyboardInterrupt\u001b[0m                         Traceback (most recent call last)",
            "\u001b[0;32m<ipython-input-4-a17e007a9e0b>\u001b[0m in \u001b[0;36m<cell line: 0>\u001b[0;34m()\u001b[0m\n\u001b[0;32m----> 1\u001b[0;31m \u001b[0mn\u001b[0m \u001b[0;34m=\u001b[0m \u001b[0mint\u001b[0m\u001b[0;34m(\u001b[0m \u001b[0minput\u001b[0m \u001b[0;34m(\u001b[0m\u001b[0;34m\"Digite o primeiro número\"\u001b[0m\u001b[0;34m)\u001b[0m\u001b[0;34m)\u001b[0m\u001b[0;34m\u001b[0m\u001b[0;34m\u001b[0m\u001b[0m\n\u001b[0m\u001b[1;32m      2\u001b[0m \u001b[0;32mwhile\u001b[0m \u001b[0mn\u001b[0m \u001b[0;34m!=\u001b[0m \u001b[0;36m0\u001b[0m\u001b[0;34m:\u001b[0m\u001b[0;34m\u001b[0m\u001b[0;34m\u001b[0m\u001b[0m\n\u001b[1;32m      3\u001b[0m   \u001b[0mprint\u001b[0m\u001b[0;34m(\u001b[0m\u001b[0mn\u001b[0m\u001b[0;34m*\u001b[0m\u001b[0mn\u001b[0m\u001b[0;34m)\u001b[0m\u001b[0;34m\u001b[0m\u001b[0;34m\u001b[0m\u001b[0m\n\u001b[1;32m      4\u001b[0m   \u001b[0;32mtry\u001b[0m\u001b[0;34m:\u001b[0m\u001b[0;34m\u001b[0m\u001b[0;34m\u001b[0m\u001b[0m\n\u001b[1;32m      5\u001b[0m     \u001b[0mn\u001b[0m \u001b[0;34m=\u001b[0m \u001b[0mint\u001b[0m\u001b[0;34m(\u001b[0m \u001b[0minput\u001b[0m \u001b[0;34m(\u001b[0m\u001b[0;34m\"Digite o primeiro número\"\u001b[0m\u001b[0;34m)\u001b[0m\u001b[0;34m)\u001b[0m\u001b[0;34m\u001b[0m\u001b[0;34m\u001b[0m\u001b[0m\n",
            "\u001b[0;32m/usr/local/lib/python3.11/dist-packages/ipykernel/kernelbase.py\u001b[0m in \u001b[0;36mraw_input\u001b[0;34m(self, prompt)\u001b[0m\n\u001b[1;32m   1175\u001b[0m                 \u001b[0;34m\"raw_input was called, but this frontend does not support input requests.\"\u001b[0m\u001b[0;34m\u001b[0m\u001b[0;34m\u001b[0m\u001b[0m\n\u001b[1;32m   1176\u001b[0m             )\n\u001b[0;32m-> 1177\u001b[0;31m         return self._input_request(\n\u001b[0m\u001b[1;32m   1178\u001b[0m             \u001b[0mstr\u001b[0m\u001b[0;34m(\u001b[0m\u001b[0mprompt\u001b[0m\u001b[0;34m)\u001b[0m\u001b[0;34m,\u001b[0m\u001b[0;34m\u001b[0m\u001b[0;34m\u001b[0m\u001b[0m\n\u001b[1;32m   1179\u001b[0m             \u001b[0mself\u001b[0m\u001b[0;34m.\u001b[0m\u001b[0m_parent_ident\u001b[0m\u001b[0;34m[\u001b[0m\u001b[0;34m\"shell\"\u001b[0m\u001b[0;34m]\u001b[0m\u001b[0;34m,\u001b[0m\u001b[0;34m\u001b[0m\u001b[0;34m\u001b[0m\u001b[0m\n",
            "\u001b[0;32m/usr/local/lib/python3.11/dist-packages/ipykernel/kernelbase.py\u001b[0m in \u001b[0;36m_input_request\u001b[0;34m(self, prompt, ident, parent, password)\u001b[0m\n\u001b[1;32m   1217\u001b[0m             \u001b[0;32mexcept\u001b[0m \u001b[0mKeyboardInterrupt\u001b[0m\u001b[0;34m:\u001b[0m\u001b[0;34m\u001b[0m\u001b[0;34m\u001b[0m\u001b[0m\n\u001b[1;32m   1218\u001b[0m                 \u001b[0;31m# re-raise KeyboardInterrupt, to truncate traceback\u001b[0m\u001b[0;34m\u001b[0m\u001b[0;34m\u001b[0m\u001b[0m\n\u001b[0;32m-> 1219\u001b[0;31m                 \u001b[0;32mraise\u001b[0m \u001b[0mKeyboardInterrupt\u001b[0m\u001b[0;34m(\u001b[0m\u001b[0;34m\"Interrupted by user\"\u001b[0m\u001b[0;34m)\u001b[0m \u001b[0;32mfrom\u001b[0m \u001b[0;32mNone\u001b[0m\u001b[0;34m\u001b[0m\u001b[0;34m\u001b[0m\u001b[0m\n\u001b[0m\u001b[1;32m   1220\u001b[0m             \u001b[0;32mexcept\u001b[0m \u001b[0mException\u001b[0m\u001b[0;34m:\u001b[0m\u001b[0;34m\u001b[0m\u001b[0;34m\u001b[0m\u001b[0m\n\u001b[1;32m   1221\u001b[0m                 \u001b[0mself\u001b[0m\u001b[0;34m.\u001b[0m\u001b[0mlog\u001b[0m\u001b[0;34m.\u001b[0m\u001b[0mwarning\u001b[0m\u001b[0;34m(\u001b[0m\u001b[0;34m\"Invalid Message:\"\u001b[0m\u001b[0;34m,\u001b[0m \u001b[0mexc_info\u001b[0m\u001b[0;34m=\u001b[0m\u001b[0;32mTrue\u001b[0m\u001b[0;34m)\u001b[0m\u001b[0;34m\u001b[0m\u001b[0;34m\u001b[0m\u001b[0m\n",
            "\u001b[0;31mKeyboardInterrupt\u001b[0m: Interrupted by user"
          ]
        }
      ]
    },
    {
      "cell_type": "code",
      "source": [
        "x = int(input(\"Digite o primeiro número: \"))\n",
        "y = int(input(\"Digite o segundo número: \"))\n",
        "quociente = 0\n",
        "resto = x\n",
        "while resto >= y:\n",
        "    resto -= y\n",
        "    quociente += 1\n",
        "print(f\"quociente = {quociente}\")\n",
        "print(f\"resto = {resto}\")\n"
      ],
      "metadata": {
        "colab": {
          "base_uri": "https://localhost:8080/"
        },
        "id": "3iUT5OOfyemt",
        "outputId": "fe75ced3-052c-4bf5-c62c-60fc0058044b"
      },
      "execution_count": null,
      "outputs": [
        {
          "output_type": "stream",
          "name": "stdout",
          "text": [
            "Digite o primeiro número: 9\n",
            "Digite o segundo número: 9\n",
            "quociente = 1\n",
            "resto = 0\n"
          ]
        }
      ]
    },
    {
      "cell_type": "code",
      "source": [],
      "metadata": {
        "id": "G4DvPRz2d8YM"
      },
      "execution_count": null,
      "outputs": []
    },
    {
      "cell_type": "code",
      "source": [
        "numero int(input(\"\\nDigite um número: \")\n",
        "for i in range(1, 11):\n",
        "  print(f\"{numero} x {i} = {numero * i}\")"
      ],
      "metadata": {
        "id": "SfYiylFCrjRg"
      },
      "execution_count": null,
      "outputs": []
    }
  ]
}